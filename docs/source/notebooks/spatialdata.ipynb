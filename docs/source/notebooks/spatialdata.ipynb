{
 "cells": [
  {
   "cell_type": "code",
   "execution_count": null,
   "id": "028e857e-9c16-483c-a2c0-ceb3626e1fd9",
   "metadata": {
    "is_executing": true
   },
   "outputs": [],
   "source": [
    "from napari_spatialdata import Interactive\n",
    "from spatialdata.datasets import blobs"
   ]
  },
  {
   "cell_type": "code",
   "execution_count": null,
   "id": "bb78308b-403d-4b04-8874-228830a81686",
   "metadata": {
    "is_executing": true
   },
   "outputs": [],
   "source": [
    "sdata = blobs()\n",
    "sdata"
   ]
  },
  {
   "cell_type": "code",
   "execution_count": 3,
   "id": "c742e08a-8fa8-4a9f-ad64-b165664ca05c",
   "metadata": {},
   "outputs": [
    {
     "data": {
      "text/plain": [
       "SpatialData object, with associated Zarr store: /media/vineetb/T7/projects/paste/data/spatialdata/merfish/data.zarr\n",
       "├── Images\n",
       "│     └── 'rasterized': DataArray[cyx] (1, 522, 575)\n",
       "├── Points\n",
       "│     └── 'single_molecule': DataFrame with shape: (<Delayed>, 3) (2D points)\n",
       "├── Shapes\n",
       "│     ├── 'anatomical': GeoDataFrame shape: (6, 1) (2D shapes)\n",
       "│     └── 'cells': GeoDataFrame shape: (2389, 2) (2D shapes)\n",
       "└── Tables\n",
       "      └── 'table': AnnData (2389, 268)\n",
       "with coordinate systems:\n",
       "    ▸ 'global', with elements:\n",
       "        rasterized (Images), single_molecule (Points), anatomical (Shapes), cells (Shapes)"
      ]
     },
     "execution_count": 3,
     "metadata": {},
     "output_type": "execute_result"
    }
   ],
   "source": [
    "interactive = Interactive(sdata)\n",
    "interactive.run()"
   ]
  }
 ],
 "metadata": {
  "kernelspec": {
   "display_name": "Python 3 (ipykernel)",
   "language": "python",
   "name": "python3"
  },
  "language_info": {
   "codemirror_mode": {
    "name": "ipython",
    "version": 3
   },
   "file_extension": ".py",
   "mimetype": "text/x-python",
   "name": "python",
   "nbconvert_exporter": "python",
   "pygments_lexer": "ipython3",
   "version": "3.12.5"
  }
 },
 "nbformat": 4,
 "nbformat_minor": 5
}
