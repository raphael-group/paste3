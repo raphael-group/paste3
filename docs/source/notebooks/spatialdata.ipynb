{
 "cells": [
  {
   "cell_type": "code",
   "execution_count": null,
   "id": "028e857e-9c16-483c-a2c0-ceb3626e1fd9",
   "metadata": {
    "is_executing": true
   },
   "outputs": [],
   "source": [
    "from napari_spatialdata import Interactive\n",
    "from spatialdata.datasets import blobs"
   ]
  },
  {
   "cell_type": "code",
   "execution_count": null,
   "id": "bb78308b-403d-4b04-8874-228830a81686",
   "metadata": {
    "is_executing": true
   },
   "outputs": [],
   "source": [
    "sdata = blobs()\n",
    "sdata"
   ]
  },
  {
   "cell_type": "code",
   "execution_count": null,
   "id": "c742e08a-8fa8-4a9f-ad64-b165664ca05c",
   "metadata": {},
   "outputs": [],
   "source": [
    "interactive = Interactive(sdata)\n",
    "interactive.run()"
   ]
  },
  {
   "cell_type": "code",
   "execution_count": null,
   "id": "6bfe3c4b-8058-48f7-b265-21965a62fe1b",
   "metadata": {},
   "outputs": [],
   "source": [
    "raise RuntimeError(\"this should fail\")"
   ]
  }
 ],
 "metadata": {
  "kernelspec": {
   "display_name": "Python 3 (ipykernel)",
   "language": "python",
   "name": "python3"
  },
  "language_info": {
   "codemirror_mode": {
    "name": "ipython",
    "version": 3
   },
   "file_extension": ".py",
   "mimetype": "text/x-python",
   "name": "python",
   "nbconvert_exporter": "python",
   "pygments_lexer": "ipython3",
   "version": "3.12.6"
  }
 },
 "nbformat": 4,
 "nbformat_minor": 5
}
